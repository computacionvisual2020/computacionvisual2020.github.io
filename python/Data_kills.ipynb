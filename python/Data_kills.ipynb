{
 "metadata": {
  "language_info": {
   "codemirror_mode": {
    "name": "ipython",
    "version": 3
   },
   "file_extension": ".py",
   "mimetype": "text/x-python",
   "name": "python",
   "nbconvert_exporter": "python",
   "pygments_lexer": "ipython3",
   "version": "3.8.2-final"
  },
  "orig_nbformat": 2,
  "kernelspec": {
   "name": "python3",
   "display_name": "Python 3.8.2 64-bit",
   "metadata": {
    "interpreter": {
     "hash": "5edc29c2ed010d6458d71a83433b383a96a8cbd3efe8531bc90c4b8a5b8bcec9"
    }
   }
  }
 },
 "nbformat": 4,
 "nbformat_minor": 2,
 "cells": [
  {
   "cell_type": "code",
   "execution_count": 4,
   "metadata": {},
   "outputs": [
    {
     "output_type": "execute_result",
     "data": {
      "text/plain": [
       "   year  month  day         countryName           city   latitude   longitude  \\\n",
       "0  1970      7    2  Dominican Republic  Santo Domingo  18.456792  -69.951164   \n",
       "1  1970      0    0              Mexico    Mexico city  19.371887  -99.086624   \n",
       "2  1970      1    0         Philippines        Unknown  15.478598  120.599741   \n",
       "3  1970      1    0              Greece         Athens  37.997490   23.762728   \n",
       "4  1970      1    0               Japan        Fukouka  33.580412  130.396361   \n",
       "\n",
       "                       attackType  killed  wounded                   target  \\\n",
       "0                   Assassination     1.0      0.0             Julio Guzman   \n",
       "1     Hostage Taking (Kidnapping)     0.0      0.0  Nadine Chaval, daughter   \n",
       "2                   Assassination     1.0      0.0                 Employee   \n",
       "3               Bombing/Explosion     NaN      NaN             U.S. Embassy   \n",
       "4  Facility/Infrastructure Attack     NaN      NaN           U.S. Consulate   \n",
       "\n",
       "  summary                               group                   targetType  \\\n",
       "0     NaN                              MANO-D  Private Citizens & Property   \n",
       "1     NaN  23rd of September Communist League      Government (Diplomatic)   \n",
       "2     NaN                             Unknown          Journalists & Media   \n",
       "3     NaN                             Unknown      Government (Diplomatic)   \n",
       "4     NaN                             Unknown      Government (Diplomatic)   \n",
       "\n",
       "   weaponType motive  \n",
       "0     Unknown    NaN  \n",
       "1     Unknown    NaN  \n",
       "2     Unknown    NaN  \n",
       "3  Explosives    NaN  \n",
       "4  Incendiary    NaN  "
      ],
      "text/html": "<div>\n<style scoped>\n    .dataframe tbody tr th:only-of-type {\n        vertical-align: middle;\n    }\n\n    .dataframe tbody tr th {\n        vertical-align: top;\n    }\n\n    .dataframe thead th {\n        text-align: right;\n    }\n</style>\n<table border=\"1\" class=\"dataframe\">\n  <thead>\n    <tr style=\"text-align: right;\">\n      <th></th>\n      <th>year</th>\n      <th>month</th>\n      <th>day</th>\n      <th>countryName</th>\n      <th>city</th>\n      <th>latitude</th>\n      <th>longitude</th>\n      <th>attackType</th>\n      <th>killed</th>\n      <th>wounded</th>\n      <th>target</th>\n      <th>summary</th>\n      <th>group</th>\n      <th>targetType</th>\n      <th>weaponType</th>\n      <th>motive</th>\n    </tr>\n  </thead>\n  <tbody>\n    <tr>\n      <th>0</th>\n      <td>1970</td>\n      <td>7</td>\n      <td>2</td>\n      <td>Dominican Republic</td>\n      <td>Santo Domingo</td>\n      <td>18.456792</td>\n      <td>-69.951164</td>\n      <td>Assassination</td>\n      <td>1.0</td>\n      <td>0.0</td>\n      <td>Julio Guzman</td>\n      <td>NaN</td>\n      <td>MANO-D</td>\n      <td>Private Citizens &amp; Property</td>\n      <td>Unknown</td>\n      <td>NaN</td>\n    </tr>\n    <tr>\n      <th>1</th>\n      <td>1970</td>\n      <td>0</td>\n      <td>0</td>\n      <td>Mexico</td>\n      <td>Mexico city</td>\n      <td>19.371887</td>\n      <td>-99.086624</td>\n      <td>Hostage Taking (Kidnapping)</td>\n      <td>0.0</td>\n      <td>0.0</td>\n      <td>Nadine Chaval, daughter</td>\n      <td>NaN</td>\n      <td>23rd of September Communist League</td>\n      <td>Government (Diplomatic)</td>\n      <td>Unknown</td>\n      <td>NaN</td>\n    </tr>\n    <tr>\n      <th>2</th>\n      <td>1970</td>\n      <td>1</td>\n      <td>0</td>\n      <td>Philippines</td>\n      <td>Unknown</td>\n      <td>15.478598</td>\n      <td>120.599741</td>\n      <td>Assassination</td>\n      <td>1.0</td>\n      <td>0.0</td>\n      <td>Employee</td>\n      <td>NaN</td>\n      <td>Unknown</td>\n      <td>Journalists &amp; Media</td>\n      <td>Unknown</td>\n      <td>NaN</td>\n    </tr>\n    <tr>\n      <th>3</th>\n      <td>1970</td>\n      <td>1</td>\n      <td>0</td>\n      <td>Greece</td>\n      <td>Athens</td>\n      <td>37.997490</td>\n      <td>23.762728</td>\n      <td>Bombing/Explosion</td>\n      <td>NaN</td>\n      <td>NaN</td>\n      <td>U.S. Embassy</td>\n      <td>NaN</td>\n      <td>Unknown</td>\n      <td>Government (Diplomatic)</td>\n      <td>Explosives</td>\n      <td>NaN</td>\n    </tr>\n    <tr>\n      <th>4</th>\n      <td>1970</td>\n      <td>1</td>\n      <td>0</td>\n      <td>Japan</td>\n      <td>Fukouka</td>\n      <td>33.580412</td>\n      <td>130.396361</td>\n      <td>Facility/Infrastructure Attack</td>\n      <td>NaN</td>\n      <td>NaN</td>\n      <td>U.S. Consulate</td>\n      <td>NaN</td>\n      <td>Unknown</td>\n      <td>Government (Diplomatic)</td>\n      <td>Incendiary</td>\n      <td>NaN</td>\n    </tr>\n  </tbody>\n</table>\n</div>"
     },
     "metadata": {},
     "execution_count": 4
    }
   ],
   "source": [
    "import pandas as pd\n",
    "\n",
    "df = pd.read_csv(\"./globalterrorismdb_0718dist.csv\",encoding='ISO-8859-1')\n",
    "\n",
    "df.rename(columns={'iyear':'year','imonth':'month','iday':'day','country_txt':'countryName','attacktype1_txt':'attackType',\\\n",
    "                   'target1':'target','nkill':'killed','nwound':'wounded','summary':'summary','gname':'group','targtype1_txt':'targetType',\\\n",
    "                   'weaptype1_txt':'weaponType','motive':'motive'},inplace=True)\n",
    "df=df[['year','month','day','countryName', 'city','latitude','longitude','attackType','killed','wounded','target','summary','group','targetType',\\\n",
    "       'weaponType','motive']]\n",
    "df.head()"
   ]
  },
  {
   "cell_type": "code",
   "execution_count": 5,
   "metadata": {},
   "outputs": [
    {
     "output_type": "execute_result",
     "data": {
      "text/plain": [
       "      year  month  day countryName       city  latitude  longitude  \\\n",
       "405   1970      7   10    Colombia  Manizales  5.059097 -75.505960   \n",
       "1392  1972      7   17    Colombia     Bogota  4.594635 -74.093737   \n",
       "1640  1972     12    0    Colombia   Medellin  6.242026 -75.564766   \n",
       "1690  1973      0    0    Colombia    unknown       NaN        NaN   \n",
       "1697  1973      1    6    Colombia     Ayapel  8.312931 -75.142561   \n",
       "\n",
       "                       attackType  killed  wounded  \\\n",
       "405   Hostage Taking (Kidnapping)     NaN      NaN   \n",
       "1392                Assassination     1.0      0.0   \n",
       "1640  Hostage Taking (Kidnapping)     0.0      0.0   \n",
       "1690  Hostage Taking (Kidnapping)     0.0      0.0   \n",
       "1697  Hostage Taking (Kidnapping)     NaN      NaN   \n",
       "\n",
       "                                                 target summary  \\\n",
       "405            Fernand Londono, former cabinet minister     NaN   \n",
       "1392  First Secretary, Swedish Embassy, Kjeil R. Hac...     NaN   \n",
       "1640  Jairo Duque Perez and associate, ex dean, law ...     NaN   \n",
       "1690                    Alirio Serrano Sanchez, rancher     NaN   \n",
       "1697                  Armando Mora de la Hoz, rancher *     NaN   \n",
       "\n",
       "                                           group               targetType  \\\n",
       "405                                      Unknown     Government (General)   \n",
       "1392                                     Unknown  Government (Diplomatic)   \n",
       "1640  National Liberation Army of Colombia (ELN)  Educational Institution   \n",
       "1690  National Liberation Army of Colombia (ELN)                 Business   \n",
       "1697               Popular Liberation Army (EPL)                 Business   \n",
       "\n",
       "     weaponType motive  \n",
       "405     Unknown    NaN  \n",
       "1392   Firearms    NaN  \n",
       "1640    Unknown    NaN  \n",
       "1690    Unknown    NaN  \n",
       "1697    Unknown    NaN  "
      ],
      "text/html": "<div>\n<style scoped>\n    .dataframe tbody tr th:only-of-type {\n        vertical-align: middle;\n    }\n\n    .dataframe tbody tr th {\n        vertical-align: top;\n    }\n\n    .dataframe thead th {\n        text-align: right;\n    }\n</style>\n<table border=\"1\" class=\"dataframe\">\n  <thead>\n    <tr style=\"text-align: right;\">\n      <th></th>\n      <th>year</th>\n      <th>month</th>\n      <th>day</th>\n      <th>countryName</th>\n      <th>city</th>\n      <th>latitude</th>\n      <th>longitude</th>\n      <th>attackType</th>\n      <th>killed</th>\n      <th>wounded</th>\n      <th>target</th>\n      <th>summary</th>\n      <th>group</th>\n      <th>targetType</th>\n      <th>weaponType</th>\n      <th>motive</th>\n    </tr>\n  </thead>\n  <tbody>\n    <tr>\n      <th>405</th>\n      <td>1970</td>\n      <td>7</td>\n      <td>10</td>\n      <td>Colombia</td>\n      <td>Manizales</td>\n      <td>5.059097</td>\n      <td>-75.505960</td>\n      <td>Hostage Taking (Kidnapping)</td>\n      <td>NaN</td>\n      <td>NaN</td>\n      <td>Fernand Londono, former cabinet minister</td>\n      <td>NaN</td>\n      <td>Unknown</td>\n      <td>Government (General)</td>\n      <td>Unknown</td>\n      <td>NaN</td>\n    </tr>\n    <tr>\n      <th>1392</th>\n      <td>1972</td>\n      <td>7</td>\n      <td>17</td>\n      <td>Colombia</td>\n      <td>Bogota</td>\n      <td>4.594635</td>\n      <td>-74.093737</td>\n      <td>Assassination</td>\n      <td>1.0</td>\n      <td>0.0</td>\n      <td>First Secretary, Swedish Embassy, Kjeil R. Hac...</td>\n      <td>NaN</td>\n      <td>Unknown</td>\n      <td>Government (Diplomatic)</td>\n      <td>Firearms</td>\n      <td>NaN</td>\n    </tr>\n    <tr>\n      <th>1640</th>\n      <td>1972</td>\n      <td>12</td>\n      <td>0</td>\n      <td>Colombia</td>\n      <td>Medellin</td>\n      <td>6.242026</td>\n      <td>-75.564766</td>\n      <td>Hostage Taking (Kidnapping)</td>\n      <td>0.0</td>\n      <td>0.0</td>\n      <td>Jairo Duque Perez and associate, ex dean, law ...</td>\n      <td>NaN</td>\n      <td>National Liberation Army of Colombia (ELN)</td>\n      <td>Educational Institution</td>\n      <td>Unknown</td>\n      <td>NaN</td>\n    </tr>\n    <tr>\n      <th>1690</th>\n      <td>1973</td>\n      <td>0</td>\n      <td>0</td>\n      <td>Colombia</td>\n      <td>unknown</td>\n      <td>NaN</td>\n      <td>NaN</td>\n      <td>Hostage Taking (Kidnapping)</td>\n      <td>0.0</td>\n      <td>0.0</td>\n      <td>Alirio Serrano Sanchez, rancher</td>\n      <td>NaN</td>\n      <td>National Liberation Army of Colombia (ELN)</td>\n      <td>Business</td>\n      <td>Unknown</td>\n      <td>NaN</td>\n    </tr>\n    <tr>\n      <th>1697</th>\n      <td>1973</td>\n      <td>1</td>\n      <td>6</td>\n      <td>Colombia</td>\n      <td>Ayapel</td>\n      <td>8.312931</td>\n      <td>-75.142561</td>\n      <td>Hostage Taking (Kidnapping)</td>\n      <td>NaN</td>\n      <td>NaN</td>\n      <td>Armando Mora de la Hoz, rancher *</td>\n      <td>NaN</td>\n      <td>Popular Liberation Army (EPL)</td>\n      <td>Business</td>\n      <td>Unknown</td>\n      <td>NaN</td>\n    </tr>\n  </tbody>\n</table>\n</div>"
     },
     "metadata": {},
     "execution_count": 5
    }
   ],
   "source": [
    "df_colombia=df[df[\"countryName\"] == 'Colombia']\n",
    "df_colombia.head()"
   ]
  },
  {
   "cell_type": "code",
   "execution_count": 6,
   "metadata": {},
   "outputs": [
    {
     "output_type": "stream",
     "name": "stdout",
     "text": [
      "<class 'pandas.core.frame.DataFrame'>\nInt64Index: 8306 entries, 405 to 181516\nData columns (total 16 columns):\n #   Column       Non-Null Count  Dtype  \n---  ------       --------------  -----  \n 0   year         8306 non-null   int64  \n 1   month        8306 non-null   int64  \n 2   day          8306 non-null   int64  \n 3   countryName  8306 non-null   object \n 4   city         8306 non-null   object \n 5   latitude     7835 non-null   float64\n 6   longitude    7835 non-null   float64\n 7   attackType   8306 non-null   object \n 8   killed       7848 non-null   float64\n 9   wounded      7722 non-null   float64\n 10  target       8289 non-null   object \n 11  summary      2313 non-null   object \n 12  group        8306 non-null   object \n 13  targetType   8306 non-null   object \n 14  weaponType   8306 non-null   object \n 15  motive       1549 non-null   object \ndtypes: float64(4), int64(3), object(9)\nmemory usage: 1.1+ MB\n"
     ]
    }
   ],
   "source": [
    "df_colombia.info()"
   ]
  },
  {
   "cell_type": "code",
   "execution_count": 7,
   "metadata": {},
   "outputs": [
    {
     "output_type": "execute_result",
     "data": {
      "text/plain": [
       "      year  month  day                   attackType\n",
       "405   1970      7   10  Hostage Taking (Kidnapping)\n",
       "1392  1972      7   17                Assassination\n",
       "1640  1972     12    1  Hostage Taking (Kidnapping)\n",
       "1690  1973      1    1  Hostage Taking (Kidnapping)\n",
       "1697  1973      1    6  Hostage Taking (Kidnapping)"
      ],
      "text/html": "<div>\n<style scoped>\n    .dataframe tbody tr th:only-of-type {\n        vertical-align: middle;\n    }\n\n    .dataframe tbody tr th {\n        vertical-align: top;\n    }\n\n    .dataframe thead th {\n        text-align: right;\n    }\n</style>\n<table border=\"1\" class=\"dataframe\">\n  <thead>\n    <tr style=\"text-align: right;\">\n      <th></th>\n      <th>year</th>\n      <th>month</th>\n      <th>day</th>\n      <th>attackType</th>\n    </tr>\n  </thead>\n  <tbody>\n    <tr>\n      <th>405</th>\n      <td>1970</td>\n      <td>7</td>\n      <td>10</td>\n      <td>Hostage Taking (Kidnapping)</td>\n    </tr>\n    <tr>\n      <th>1392</th>\n      <td>1972</td>\n      <td>7</td>\n      <td>17</td>\n      <td>Assassination</td>\n    </tr>\n    <tr>\n      <th>1640</th>\n      <td>1972</td>\n      <td>12</td>\n      <td>1</td>\n      <td>Hostage Taking (Kidnapping)</td>\n    </tr>\n    <tr>\n      <th>1690</th>\n      <td>1973</td>\n      <td>1</td>\n      <td>1</td>\n      <td>Hostage Taking (Kidnapping)</td>\n    </tr>\n    <tr>\n      <th>1697</th>\n      <td>1973</td>\n      <td>1</td>\n      <td>6</td>\n      <td>Hostage Taking (Kidnapping)</td>\n    </tr>\n  </tbody>\n</table>\n</div>"
     },
     "metadata": {},
     "execution_count": 7
    }
   ],
   "source": [
    "df_select = pd.DataFrame(df_colombia, columns= ['year','month','day', 'attackType'])\n",
    "df_select.loc[(df_select.day == 0), 'day'] = 1\n",
    "df_select.loc[(df_select.month == 0), 'month'] = 1\n",
    "df_select.head()"
   ]
  },
  {
   "cell_type": "code",
   "execution_count": 8,
   "metadata": {},
   "outputs": [
    {
     "output_type": "execute_result",
     "data": {
      "text/plain": [
       "405    1970-07-10\n",
       "1392   1972-07-17\n",
       "1640   1972-12-01\n",
       "1690   1973-01-01\n",
       "1697   1973-01-06\n",
       "dtype: datetime64[ns]"
      ]
     },
     "metadata": {},
     "execution_count": 8
    }
   ],
   "source": [
    "df_test = pd.to_datetime(df_select[[\"year\", \"month\", \"day\"]])\n",
    "df_test.head()"
   ]
  },
  {
   "cell_type": "code",
   "execution_count": 9,
   "metadata": {},
   "outputs": [
    {
     "output_type": "execute_result",
     "data": {
      "text/plain": [
       "      year  month  day                   attackType       date\n",
       "405   1970      7   10  Hostage Taking (Kidnapping) 1970-07-10\n",
       "1392  1972      7   17                Assassination 1972-07-17\n",
       "1640  1972     12    1  Hostage Taking (Kidnapping) 1972-12-01\n",
       "1690  1973      1    1  Hostage Taking (Kidnapping) 1973-01-01\n",
       "1697  1973      1    6  Hostage Taking (Kidnapping) 1973-01-06"
      ],
      "text/html": "<div>\n<style scoped>\n    .dataframe tbody tr th:only-of-type {\n        vertical-align: middle;\n    }\n\n    .dataframe tbody tr th {\n        vertical-align: top;\n    }\n\n    .dataframe thead th {\n        text-align: right;\n    }\n</style>\n<table border=\"1\" class=\"dataframe\">\n  <thead>\n    <tr style=\"text-align: right;\">\n      <th></th>\n      <th>year</th>\n      <th>month</th>\n      <th>day</th>\n      <th>attackType</th>\n      <th>date</th>\n    </tr>\n  </thead>\n  <tbody>\n    <tr>\n      <th>405</th>\n      <td>1970</td>\n      <td>7</td>\n      <td>10</td>\n      <td>Hostage Taking (Kidnapping)</td>\n      <td>1970-07-10</td>\n    </tr>\n    <tr>\n      <th>1392</th>\n      <td>1972</td>\n      <td>7</td>\n      <td>17</td>\n      <td>Assassination</td>\n      <td>1972-07-17</td>\n    </tr>\n    <tr>\n      <th>1640</th>\n      <td>1972</td>\n      <td>12</td>\n      <td>1</td>\n      <td>Hostage Taking (Kidnapping)</td>\n      <td>1972-12-01</td>\n    </tr>\n    <tr>\n      <th>1690</th>\n      <td>1973</td>\n      <td>1</td>\n      <td>1</td>\n      <td>Hostage Taking (Kidnapping)</td>\n      <td>1973-01-01</td>\n    </tr>\n    <tr>\n      <th>1697</th>\n      <td>1973</td>\n      <td>1</td>\n      <td>6</td>\n      <td>Hostage Taking (Kidnapping)</td>\n      <td>1973-01-06</td>\n    </tr>\n  </tbody>\n</table>\n</div>"
     },
     "metadata": {},
     "execution_count": 9
    }
   ],
   "source": [
    "from datetime import datetime\n",
    "df_select['date'] = df_select.apply(lambda row: datetime.strptime(f\"{int(row.year)}-{int(row.month)}-{int(row.day)}\", '%Y-%m-%d'), axis=1)\n",
    "df_select.head()"
   ]
  },
  {
   "cell_type": "code",
   "execution_count": 10,
   "metadata": {},
   "outputs": [
    {
     "output_type": "execute_result",
     "data": {
      "text/plain": [
       "             date                   attackType\n",
       "181063 2017-12-04                Assassination\n",
       "181177 2017-12-09            Bombing/Explosion\n",
       "181376 2017-12-16            Bombing/Explosion\n",
       "181444 2017-12-20  Hostage Taking (Kidnapping)\n",
       "181516 2017-12-24                Assassination"
      ],
      "text/html": "<div>\n<style scoped>\n    .dataframe tbody tr th:only-of-type {\n        vertical-align: middle;\n    }\n\n    .dataframe tbody tr th {\n        vertical-align: top;\n    }\n\n    .dataframe thead th {\n        text-align: right;\n    }\n</style>\n<table border=\"1\" class=\"dataframe\">\n  <thead>\n    <tr style=\"text-align: right;\">\n      <th></th>\n      <th>date</th>\n      <th>attackType</th>\n    </tr>\n  </thead>\n  <tbody>\n    <tr>\n      <th>181063</th>\n      <td>2017-12-04</td>\n      <td>Assassination</td>\n    </tr>\n    <tr>\n      <th>181177</th>\n      <td>2017-12-09</td>\n      <td>Bombing/Explosion</td>\n    </tr>\n    <tr>\n      <th>181376</th>\n      <td>2017-12-16</td>\n      <td>Bombing/Explosion</td>\n    </tr>\n    <tr>\n      <th>181444</th>\n      <td>2017-12-20</td>\n      <td>Hostage Taking (Kidnapping)</td>\n    </tr>\n    <tr>\n      <th>181516</th>\n      <td>2017-12-24</td>\n      <td>Assassination</td>\n    </tr>\n  </tbody>\n</table>\n</div>"
     },
     "metadata": {},
     "execution_count": 10
    }
   ],
   "source": [
    "df_final = pd.DataFrame(df_select, columns= ['date','attackType'])\n",
    "df_final.tail()"
   ]
  },
  {
   "cell_type": "code",
   "execution_count": 11,
   "metadata": {},
   "outputs": [
    {
     "output_type": "error",
     "ename": "FileNotFoundError",
     "evalue": "[Errno 2] No such file or directory: '../Users/tom/Documents/Proyecto_Visual/data.csv'",
     "traceback": [
      "\u001b[0;31m---------------------------------------------------------------------------\u001b[0m",
      "\u001b[0;31mFileNotFoundError\u001b[0m                         Traceback (most recent call last)",
      "\u001b[0;32m<ipython-input-11-aa43aa09f371>\u001b[0m in \u001b[0;36m<module>\u001b[0;34m\u001b[0m\n\u001b[0;32m----> 1\u001b[0;31m \u001b[0mdf_final\u001b[0m\u001b[0;34m.\u001b[0m\u001b[0mto_csv\u001b[0m \u001b[0;34m(\u001b[0m\u001b[0;34m'../Users/tom/Documents/Proyecto_Visual/data.csv'\u001b[0m\u001b[0;34m,\u001b[0m \u001b[0mindex\u001b[0m \u001b[0;34m=\u001b[0m \u001b[0;32mFalse\u001b[0m\u001b[0;34m,\u001b[0m \u001b[0mheader\u001b[0m\u001b[0;34m=\u001b[0m\u001b[0;32mTrue\u001b[0m\u001b[0;34m)\u001b[0m\u001b[0;34m\u001b[0m\u001b[0;34m\u001b[0m\u001b[0m\n\u001b[0m",
      "\u001b[0;32m~/Library/Python/3.8/lib/python/site-packages/pandas/core/generic.py\u001b[0m in \u001b[0;36mto_csv\u001b[0;34m(self, path_or_buf, sep, na_rep, float_format, columns, header, index, index_label, mode, encoding, compression, quoting, quotechar, line_terminator, chunksize, date_format, doublequote, escapechar, decimal, errors)\u001b[0m\n\u001b[1;32m   3168\u001b[0m             \u001b[0mdecimal\u001b[0m\u001b[0;34m=\u001b[0m\u001b[0mdecimal\u001b[0m\u001b[0;34m,\u001b[0m\u001b[0;34m\u001b[0m\u001b[0;34m\u001b[0m\u001b[0m\n\u001b[1;32m   3169\u001b[0m         )\n\u001b[0;32m-> 3170\u001b[0;31m         \u001b[0mformatter\u001b[0m\u001b[0;34m.\u001b[0m\u001b[0msave\u001b[0m\u001b[0;34m(\u001b[0m\u001b[0;34m)\u001b[0m\u001b[0;34m\u001b[0m\u001b[0;34m\u001b[0m\u001b[0m\n\u001b[0m\u001b[1;32m   3171\u001b[0m \u001b[0;34m\u001b[0m\u001b[0m\n\u001b[1;32m   3172\u001b[0m         \u001b[0;32mif\u001b[0m \u001b[0mpath_or_buf\u001b[0m \u001b[0;32mis\u001b[0m \u001b[0;32mNone\u001b[0m\u001b[0;34m:\u001b[0m\u001b[0;34m\u001b[0m\u001b[0;34m\u001b[0m\u001b[0m\n",
      "\u001b[0;32m~/Library/Python/3.8/lib/python/site-packages/pandas/io/formats/csvs.py\u001b[0m in \u001b[0;36msave\u001b[0;34m(self)\u001b[0m\n\u001b[1;32m    183\u001b[0m             \u001b[0mclose\u001b[0m \u001b[0;34m=\u001b[0m \u001b[0;32mFalse\u001b[0m\u001b[0;34m\u001b[0m\u001b[0;34m\u001b[0m\u001b[0m\n\u001b[1;32m    184\u001b[0m         \u001b[0;32melse\u001b[0m\u001b[0;34m:\u001b[0m\u001b[0;34m\u001b[0m\u001b[0;34m\u001b[0m\u001b[0m\n\u001b[0;32m--> 185\u001b[0;31m             f, handles = get_handle(\n\u001b[0m\u001b[1;32m    186\u001b[0m                 \u001b[0mself\u001b[0m\u001b[0;34m.\u001b[0m\u001b[0mpath_or_buf\u001b[0m\u001b[0;34m,\u001b[0m\u001b[0;34m\u001b[0m\u001b[0;34m\u001b[0m\u001b[0m\n\u001b[1;32m    187\u001b[0m                 \u001b[0mself\u001b[0m\u001b[0;34m.\u001b[0m\u001b[0mmode\u001b[0m\u001b[0;34m,\u001b[0m\u001b[0;34m\u001b[0m\u001b[0;34m\u001b[0m\u001b[0m\n",
      "\u001b[0;32m~/Library/Python/3.8/lib/python/site-packages/pandas/io/common.py\u001b[0m in \u001b[0;36mget_handle\u001b[0;34m(path_or_buf, mode, encoding, compression, memory_map, is_text, errors)\u001b[0m\n\u001b[1;32m    491\u001b[0m         \u001b[0;32mif\u001b[0m \u001b[0mencoding\u001b[0m\u001b[0;34m:\u001b[0m\u001b[0;34m\u001b[0m\u001b[0;34m\u001b[0m\u001b[0m\n\u001b[1;32m    492\u001b[0m             \u001b[0;31m# Encoding\u001b[0m\u001b[0;34m\u001b[0m\u001b[0;34m\u001b[0m\u001b[0;34m\u001b[0m\u001b[0m\n\u001b[0;32m--> 493\u001b[0;31m             \u001b[0mf\u001b[0m \u001b[0;34m=\u001b[0m \u001b[0mopen\u001b[0m\u001b[0;34m(\u001b[0m\u001b[0mpath_or_buf\u001b[0m\u001b[0;34m,\u001b[0m \u001b[0mmode\u001b[0m\u001b[0;34m,\u001b[0m \u001b[0mencoding\u001b[0m\u001b[0;34m=\u001b[0m\u001b[0mencoding\u001b[0m\u001b[0;34m,\u001b[0m \u001b[0merrors\u001b[0m\u001b[0;34m=\u001b[0m\u001b[0merrors\u001b[0m\u001b[0;34m,\u001b[0m \u001b[0mnewline\u001b[0m\u001b[0;34m=\u001b[0m\u001b[0;34m\"\"\u001b[0m\u001b[0;34m)\u001b[0m\u001b[0;34m\u001b[0m\u001b[0;34m\u001b[0m\u001b[0m\n\u001b[0m\u001b[1;32m    494\u001b[0m         \u001b[0;32melif\u001b[0m \u001b[0mis_text\u001b[0m\u001b[0;34m:\u001b[0m\u001b[0;34m\u001b[0m\u001b[0;34m\u001b[0m\u001b[0m\n\u001b[1;32m    495\u001b[0m             \u001b[0;31m# No explicit encoding\u001b[0m\u001b[0;34m\u001b[0m\u001b[0;34m\u001b[0m\u001b[0;34m\u001b[0m\u001b[0m\n",
      "\u001b[0;31mFileNotFoundError\u001b[0m: [Errno 2] No such file or directory: '../Users/tom/Documents/Proyecto_Visual/data.csv'"
     ]
    }
   ],
   "source": [
    "df_final.to_csv ('./new_data.csv', index = False, header=True)"
   ]
  }
 ]
}